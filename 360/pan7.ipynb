{
 "cells": [
  {
   "cell_type": "markdown",
   "metadata": {},
   "source": [
    "# 第7章 確率的トレンドとは何か？\n",
    "## 7.4 ランダムウォークの判定"
   ]
  },
  {
   "cell_type": "code",
   "execution_count": 1,
   "metadata": {},
   "outputs": [],
   "source": [
    "%matplotlib inline\n",
    "import matplotlib.pyplot as plt\n",
    "import statsmodels.api as sm\n",
    "import pandas_datareader.data as web\n",
    "import numpy as np\n",
    "end='2017/12/30'\n",
    "lnn225 = np.log(web.DataReader(\"NIKKEI225\", 'fred',\"1949/5/16\",end)).dropna()"
   ]
  },
  {
   "cell_type": "code",
   "execution_count": 2,
   "metadata": {},
   "outputs": [
    {
     "name": "stdout",
     "output_type": "stream",
     "text": [
      "2.361830813961644\n",
      "0.9968769754542945\n",
      "38\n",
      "17038\n",
      "{'1%': -2.565871236816357, '5%': -1.9410157763465283, '10%': -1.6168044206599144}\n"
     ]
    }
   ],
   "source": [
    "print(sm.tsa.adfuller(lnn225.NIKKEI225,regression='nc')[0])#検定統計量\n",
    "print(sm.tsa.adfuller(lnn225.NIKKEI225,regression='nc')[1])#p-値\n",
    "print(sm.tsa.adfuller(lnn225.NIKKEI225,regression='nc')[2])#ラグの数\n",
    "print(sm.tsa.adfuller(lnn225.NIKKEI225,regression='nc')[3])#データの数\n",
    "print(sm.tsa.adfuller(lnn225.NIKKEI225,regression='nc')[4])#臨界値"
   ]
  },
  {
   "cell_type": "code",
   "execution_count": 3,
   "metadata": {},
   "outputs": [
    {
     "name": "stdout",
     "output_type": "stream",
     "text": [
      "0.796845172199895\n"
     ]
    }
   ],
   "source": [
    "print(sm.tsa.adfuller(lnn225.NIKKEI225,regression='ct')[1])"
   ]
  },
  {
   "cell_type": "code",
   "execution_count": 4,
   "metadata": {},
   "outputs": [
    {
     "name": "stdout",
     "output_type": "stream",
     "text": [
      "0.13620836082381715\n"
     ]
    }
   ],
   "source": [
    "print(sm.tsa.adfuller(lnn225.NIKKEI225,regression='c')[1])"
   ]
  },
  {
   "cell_type": "code",
   "execution_count": 5,
   "metadata": {},
   "outputs": [
    {
     "name": "stdout",
     "output_type": "stream",
     "text": [
      "17050\n"
     ]
    }
   ],
   "source": [
    "print(sm.tsa.adfuller(lnn225.NIKKEI225,regression='c')[3])"
   ]
  },
  {
   "cell_type": "code",
   "execution_count": 6,
   "metadata": {},
   "outputs": [
    {
     "name": "stdout",
     "output_type": "stream",
     "text": [
      "{'1%': -3.430733594415799, '5%': -2.8617095336343805, '10%': -2.5668602384018024}\n"
     ]
    }
   ],
   "source": [
    "print(sm.tsa.adfuller(lnn225.NIKKEI225,regression='c')[4])"
   ]
  },
  {
   "cell_type": "code",
   "execution_count": 7,
   "metadata": {},
   "outputs": [
    {
     "name": "stdout",
     "output_type": "stream",
     "text": [
      "(-2.4198635880674546, 0.13620836082381715)\n"
     ]
    }
   ],
   "source": [
    "print(sm.tsa.adfuller(lnn225.NIKKEI225,regression='c')[:2])"
   ]
  },
  {
   "cell_type": "code",
   "execution_count": 8,
   "metadata": {},
   "outputs": [
    {
     "name": "stdout",
     "output_type": "stream",
     "text": [
      "0.9968769754542945\n"
     ]
    }
   ],
   "source": [
    "print(sm.tsa.adfuller(lnn225.NIKKEI225,regression='nc')[1])"
   ]
  },
  {
   "cell_type": "code",
   "execution_count": 9,
   "metadata": {},
   "outputs": [
    {
     "name": "stdout",
     "output_type": "stream",
     "text": [
      "0.5043386679704376\n"
     ]
    }
   ],
   "source": [
    "print(sm.tsa.adfuller(lnn225.NIKKEI225.loc[:'1954/11/30'],regression='ct')[1])"
   ]
  },
  {
   "cell_type": "code",
   "execution_count": 10,
   "metadata": {},
   "outputs": [
    {
     "name": "stdout",
     "output_type": "stream",
     "text": [
      "0.903086924526704\n"
     ]
    }
   ],
   "source": [
    "print(sm.tsa.adfuller(lnn225.NIKKEI225.loc[:'1954/11/30'],regression='c')[1])"
   ]
  },
  {
   "cell_type": "code",
   "execution_count": 11,
   "metadata": {},
   "outputs": [
    {
     "name": "stdout",
     "output_type": "stream",
     "text": [
      "0.8958220015711222\n"
     ]
    }
   ],
   "source": [
    "print(sm.tsa.adfuller(lnn225.NIKKEI225.loc[:'1954/11/30'],regression='nc')[1])"
   ]
  },
  {
   "cell_type": "code",
   "execution_count": 12,
   "metadata": {},
   "outputs": [
    {
     "name": "stdout",
     "output_type": "stream",
     "text": [
      "0.6155882082562562\n"
     ]
    }
   ],
   "source": [
    "print(sm.tsa.adfuller(lnn225.NIKKEI225.loc['1954/12/1':'1971/12/31'],regression='ct')[1])"
   ]
  },
  {
   "cell_type": "code",
   "execution_count": 13,
   "metadata": {},
   "outputs": [
    {
     "name": "stdout",
     "output_type": "stream",
     "text": [
      "0.4800438633314353\n"
     ]
    }
   ],
   "source": [
    "print(sm.tsa.adfuller(lnn225.NIKKEI225.loc['1954/12/1':'1971/12/31'],regression='c')[1])"
   ]
  },
  {
   "cell_type": "code",
   "execution_count": 14,
   "metadata": {},
   "outputs": [
    {
     "name": "stdout",
     "output_type": "stream",
     "text": [
      "0.9996897545994142\n"
     ]
    }
   ],
   "source": [
    "print(sm.tsa.adfuller(lnn225.NIKKEI225.loc['1954/12/1':'1971/12/31'],regression='nc')[1])"
   ]
  },
  {
   "cell_type": "code",
   "execution_count": 15,
   "metadata": {},
   "outputs": [
    {
     "name": "stdout",
     "output_type": "stream",
     "text": [
      "0.8402409372887316\n"
     ]
    }
   ],
   "source": [
    "print(sm.tsa.adfuller(lnn225.NIKKEI225.loc['1972/1/1':'1986/11/30'],regression='ct')[1])"
   ]
  },
  {
   "cell_type": "code",
   "execution_count": 16,
   "metadata": {},
   "outputs": [
    {
     "name": "stdout",
     "output_type": "stream",
     "text": [
      "0.961755377360369\n"
     ]
    }
   ],
   "source": [
    "print(sm.tsa.adfuller(lnn225.NIKKEI225.loc['1972/1/1':'1986/11/30'],regression='c')[1])"
   ]
  },
  {
   "cell_type": "code",
   "execution_count": 17,
   "metadata": {},
   "outputs": [
    {
     "name": "stdout",
     "output_type": "stream",
     "text": [
      "0.9999969918866995\n"
     ]
    }
   ],
   "source": [
    "print(sm.tsa.adfuller(lnn225.NIKKEI225.loc['1972/1/1':'1986/11/30'],regression='nc')[1])"
   ]
  },
  {
   "cell_type": "code",
   "execution_count": 18,
   "metadata": {},
   "outputs": [
    {
     "name": "stdout",
     "output_type": "stream",
     "text": [
      "0.31237826348543607\n"
     ]
    }
   ],
   "source": [
    "print(sm.tsa.adfuller(lnn225.NIKKEI225.loc['1986/12/1':'1989/12/31'],regression='ct')[1])"
   ]
  },
  {
   "cell_type": "code",
   "execution_count": 19,
   "metadata": {},
   "outputs": [
    {
     "name": "stdout",
     "output_type": "stream",
     "text": [
      "0.7683779392790009\n"
     ]
    }
   ],
   "source": [
    "print(sm.tsa.adfuller(lnn225.NIKKEI225.loc['1986/12/1':'1989/12/31'],regression='c')[1])"
   ]
  },
  {
   "cell_type": "code",
   "execution_count": 20,
   "metadata": {},
   "outputs": [
    {
     "name": "stdout",
     "output_type": "stream",
     "text": [
      "0.9995251300452263\n"
     ]
    }
   ],
   "source": [
    "print(sm.tsa.adfuller(lnn225.NIKKEI225.loc['1986/12/1':'1989/12/31'],regression='nc')[1])"
   ]
  },
  {
   "cell_type": "code",
   "execution_count": 21,
   "metadata": {},
   "outputs": [
    {
     "name": "stdout",
     "output_type": "stream",
     "text": [
      "0.4081683478191831\n"
     ]
    }
   ],
   "source": [
    "print(sm.tsa.adfuller(lnn225.NIKKEI225.loc['1986/12/1':'1993/10/30'],regression='ct')[1])"
   ]
  },
  {
   "cell_type": "code",
   "execution_count": 22,
   "metadata": {},
   "outputs": [
    {
     "name": "stdout",
     "output_type": "stream",
     "text": [
      "0.6141943333114517\n"
     ]
    }
   ],
   "source": [
    "print(sm.tsa.adfuller(lnn225.NIKKEI225.loc['1986/12/1':'1993/10/30'],regression='c')[1])"
   ]
  },
  {
   "cell_type": "code",
   "execution_count": 23,
   "metadata": {},
   "outputs": [
    {
     "name": "stdout",
     "output_type": "stream",
     "text": [
      "0.714090772219617\n"
     ]
    }
   ],
   "source": [
    "print(sm.tsa.adfuller(lnn225.NIKKEI225.loc['1986/12/1':'1993/10/30'],regression='nc')[1])"
   ]
  },
  {
   "cell_type": "code",
   "execution_count": 24,
   "metadata": {},
   "outputs": [
    {
     "name": "stdout",
     "output_type": "stream",
     "text": [
      "0.6200868232552026\n"
     ]
    }
   ],
   "source": [
    "print(sm.tsa.adfuller(lnn225.NIKKEI225.loc[:'1993/10/30'],regression='ct')[1])"
   ]
  },
  {
   "cell_type": "code",
   "execution_count": 25,
   "metadata": {},
   "outputs": [
    {
     "name": "stdout",
     "output_type": "stream",
     "text": [
      "0.6520083640508889\n"
     ]
    }
   ],
   "source": [
    "print(sm.tsa.adfuller(lnn225.NIKKEI225.loc[:'1993/10/30'],regression='c')[1])"
   ]
  },
  {
   "cell_type": "code",
   "execution_count": 26,
   "metadata": {},
   "outputs": [
    {
     "name": "stdout",
     "output_type": "stream",
     "text": [
      "0.999821116797176\n"
     ]
    }
   ],
   "source": [
    "print(sm.tsa.adfuller(lnn225.NIKKEI225.loc[:'1993/10/30'],regression='nc')[1])"
   ]
  },
  {
   "cell_type": "code",
   "execution_count": 27,
   "metadata": {},
   "outputs": [
    {
     "name": "stdout",
     "output_type": "stream",
     "text": [
      "0.8897077994977852\n"
     ]
    }
   ],
   "source": [
    "print(sm.tsa.adfuller(lnn225.NIKKEI225.loc['1993/10/30':],regression='ct')[1])"
   ]
  },
  {
   "cell_type": "code",
   "execution_count": 28,
   "metadata": {},
   "outputs": [
    {
     "name": "stdout",
     "output_type": "stream",
     "text": [
      "0.5097432442169876\n"
     ]
    }
   ],
   "source": [
    "print(sm.tsa.adfuller(lnn225.NIKKEI225.loc['1993/10/30':],regression='c')[1])"
   ]
  },
  {
   "cell_type": "code",
   "execution_count": 29,
   "metadata": {},
   "outputs": [
    {
     "name": "stdout",
     "output_type": "stream",
     "text": [
      "0.7299929655705053\n"
     ]
    }
   ],
   "source": [
    "print(sm.tsa.adfuller(lnn225.NIKKEI225.loc['1993/10/30':],regression='nc')[1])"
   ]
  },
  {
   "cell_type": "code",
   "execution_count": 30,
   "metadata": {},
   "outputs": [
    {
     "name": "stdout",
     "output_type": "stream",
     "text": [
      "0.07395551634727046\n"
     ]
    }
   ],
   "source": [
    "print(sm.tsa.adfuller(lnn225.NIKKEI225.loc['1990/1/1':'1992/8/31'],regression='nc')[1])"
   ]
  },
  {
   "cell_type": "code",
   "execution_count": 31,
   "metadata": {},
   "outputs": [
    {
     "name": "stdout",
     "output_type": "stream",
     "text": [
      "0.4428061763549294\n"
     ]
    }
   ],
   "source": [
    "print(sm.tsa.adfuller(lnn225.NIKKEI225.loc['1990/1/1':'1992/8/31'],regression='c')[1])"
   ]
  },
  {
   "cell_type": "code",
   "execution_count": 32,
   "metadata": {},
   "outputs": [
    {
     "name": "stdout",
     "output_type": "stream",
     "text": [
      "0.323414633112772\n"
     ]
    }
   ],
   "source": [
    "print(sm.tsa.adfuller(lnn225.NIKKEI225.loc['1990/1/1':'1992/8/31'],regression='ct')[1])"
   ]
  },
  {
   "cell_type": "code",
   "execution_count": 46,
   "metadata": {},
   "outputs": [
    {
     "name": "stdout",
     "output_type": "stream",
     "text": [
      "without drift   2.8308544317879348e-05\n",
      "with drift   0.0015130273381139551 -0.00014520004266660403\n",
      "with drift + time trend   0.0016885747083512453 -0.00017711506956851288 1.1062080558710134e-08\n"
     ]
    }
   ],
   "source": [
    "z=lnn225\n",
    "y=z.diff().dropna()\n",
    "x=z.shift(1).dropna()\n",
    "model=sm.OLS(y,x)\n",
    "results=model.fit()\n",
    "print(\"without drift  \",results.params[0])\n",
    "x=sm.add_constant(x.values)\n",
    "model=sm.OLS(y,x)\n",
    "results=model.fit()\n",
    "print(\"with drift  \",results.params[0],results.params[1])\n",
    "x = np.column_stack((x, np.arange(len(y))))\n",
    "model=sm.OLS(y,x)\n",
    "results=model.fit()\n",
    "print(\"with drift + time trend  \",results.params[0],results.params[1],results.params[2])"
   ]
  },
  {
   "cell_type": "markdown",
   "metadata": {},
   "source": [
    "##### 結果の解説\n",
    "\n",
    "日経株価平均の1949年以降のデータを用いた単位根検定では結果は0.54である。これは危険域を10%とするとそれよりも高いので、帰無仮説を棄却できない。よってドリフト付きランダムウォークである。\n",
    "\n",
    "|景気(states)|期間-始点|終点                  |単純ランダムウォーク|ドリフト付き| ドリフト＋時間トレンド|\n",
    "|:---:|:---:|:---:                            |:---:|:---:|:---:|\n",
    "|全期間||                                     |0.99|0.09|0.84|\n",
    "|戦後復興期(recover)|1949/5/16|1954/11/30     |0.89|0.90|0.50|\n",
    "|高度経済成長期(growth)|1954/12/1|1971/12/31  |0.99|0.48|0.62|\n",
    "|安定期(stable)|1972/1/1|1986/11/30          |1.00|0.96|0.84|\n",
    "|バブル経済期(bubble)|1986/12/1|1993/10/30     |0.71|0.61|0.41|\n",
    "|バブルピークまで　　|1986/12/1|1989/12/31     |1.00|0.77|0.31|\n",
    "|経済変革期(reform)|1991/3/1|現在             |0.63|0.34|0.76|"
   ]
  },
  {
   "cell_type": "code",
   "execution_count": 47,
   "metadata": {},
   "outputs": [
    {
     "name": "stdout",
     "output_type": "stream",
     "text": [
      "nc   NIKKEI225    0.000082\n",
      "dtype: float64\n",
      "c   0.0010158563190787984 -0.00010764780610967616\n",
      "ct   0.015455834378999849 -0.003483327764963094 5.007360047870141e-06\n"
     ]
    },
    {
     "name": "stderr",
     "output_type": "stream",
     "text": [
      "C:\\Users\\moriya\\Anaconda3\\lib\\site-packages\\numpy\\core\\fromnumeric.py:2389: FutureWarning: Method .ptp is deprecated and will be removed in a future version. Use numpy.ptp instead.\n",
      "  return ptp(axis=axis, out=out, **kwargs)\n"
     ]
    }
   ],
   "source": [
    "z=lnn225.loc[:\"1954/11/30\"]\n",
    "y=z.diff().dropna()\n",
    "x=z.shift(1).dropna()\n",
    "model=sm.OLS(y,x)\n",
    "results=model.fit()\n",
    "print(\"nc  \",results.params)\n",
    "x=sm.add_constant(x)\n",
    "model=sm.OLS(y,x)\n",
    "results=model.fit()\n",
    "print(\"c  \",results.params[0],results.params[1])\n",
    "x[\"t\"]=range(len(y))\n",
    "model=sm.OLS(y,x)\n",
    "results=model.fit()\n",
    "print(\"ct  \",results.params[0],results.params[1],results.params[2])"
   ]
  },
  {
   "cell_type": "code",
   "execution_count": 48,
   "metadata": {},
   "outputs": [
    {
     "name": "stdout",
     "output_type": "stream",
     "text": [
      "nc   NIKKEI225    0.000068\n",
      "dtype: float64\n",
      "c   0.003545221183422878 -0.000434452045716428\n",
      "ct   0.007763804026233945 -0.0011394052321703494 3.4186272877479254e-07\n"
     ]
    }
   ],
   "source": [
    "z=lnn225.loc[\"1954/11/30\":'1971/12/31']\n",
    "y=z.diff().dropna()\n",
    "x=z.shift(1).dropna()\n",
    "model=sm.OLS(y,x)\n",
    "results=model.fit()\n",
    "print(\"nc  \",results.params)\n",
    "x=sm.add_constant(x)\n",
    "model=sm.OLS(y,x)\n",
    "results=model.fit()\n",
    "print(\"c  \",results.params[0],results.params[1])\n",
    "x[\"t\"]=range(len(y))\n",
    "model=sm.OLS(y,x)\n",
    "results=model.fit()\n",
    "print(\"ct  \",results.params[0],results.params[1],results.params[2])"
   ]
  },
  {
   "cell_type": "code",
   "execution_count": 49,
   "metadata": {},
   "outputs": [
    {
     "name": "stdout",
     "output_type": "stream",
     "text": [
      "nc   NIKKEI225    0.000057\n",
      "dtype: float64\n",
      "c   0.0005944909970092972 -1.0333006186346563e-05\n",
      "ct   0.012677919948124264 -0.0015148449034600932 6.087432002879763e-07\n"
     ]
    }
   ],
   "source": [
    "z=lnn225.loc['1971/12/31':'1986/11/30']\n",
    "y=z.diff().dropna()\n",
    "x=z.shift(1).dropna()\n",
    "model=sm.OLS(y,x)\n",
    "results=model.fit()\n",
    "print(\"nc  \",results.params)\n",
    "x=sm.add_constant(x)\n",
    "model=sm.OLS(y,x)\n",
    "results=model.fit()\n",
    "print(\"c  \",results.params[0],results.params[1])\n",
    "x[\"t\"]=range(len(y))\n",
    "model=sm.OLS(y,x)\n",
    "results=model.fit()\n",
    "print(\"ct  \",results.params[0],results.params[1],results.params[2])"
   ]
  },
  {
   "cell_type": "code",
   "execution_count": 50,
   "metadata": {},
   "outputs": [
    {
     "name": "stdout",
     "output_type": "stream",
     "text": [
      "nc   NIKKEI225    0.000003\n",
      "dtype: float64\n",
      "c   0.022443821648993615 -0.0022164837215311608\n",
      "ct   0.043732130203516184 -0.004158909633476108 -1.9440246375732243e-06\n"
     ]
    }
   ],
   "source": [
    "z=lnn225.loc['1986/11/30':'1993/10/31']\n",
    "y=z.diff().dropna()\n",
    "x=z.shift(1).dropna()\n",
    "model=sm.OLS(y,x)\n",
    "results=model.fit()\n",
    "print(\"nc  \",results.params)\n",
    "x=sm.add_constant(x)\n",
    "model=sm.OLS(y,x)\n",
    "results=model.fit()\n",
    "print(\"c  \",results.params[0],results.params[1])\n",
    "x[\"t\"]=range(len(y))\n",
    "model=sm.OLS(y,x)\n",
    "results=model.fit()\n",
    "print(\"ct  \",results.params[0],results.params[1],results.params[2])"
   ]
  },
  {
   "cell_type": "code",
   "execution_count": 51,
   "metadata": {},
   "outputs": [
    {
     "name": "stdout",
     "output_type": "stream",
     "text": [
      "nc   NIKKEI225    0.000096\n",
      "dtype: float64\n",
      "nc   -4690.719227375498\n",
      "nc   -4686.080659586331\n",
      "nc   0.0075452699572644555\n",
      "nc   0.006244542919200513\n",
      "nc   0.00012604520290183935\n",
      "nc   [79769.67617582]\n",
      "c   0.027357796331482893 -0.002581199554189786\n",
      "c   -4690.194921649443\n",
      "c   -4680.91778607111\n",
      "c   0.001793776010617365\n",
      "c   0.00048379408937149204\n",
      "c   0.0001259670713612881\n",
      "c   [8.05334306e+04 2.45603153e-01]\n",
      "ct   0.22786812894272376 -0.022869218461066845 1.7724839579406318e-05\n",
      "ct   -4696.349822253934\n",
      "ct   -4682.434118886435\n",
      "ct   0.01239192032541836\n",
      "ct   0.009796366896575925\n",
      "ct   0.00012479342603525405\n",
      "ct   [1.48417739e+08 1.89889943e+04 2.27656103e-02]\n"
     ]
    }
   ],
   "source": [
    "z=lnn225.loc['1986/11/30':'1989/12/31']\n",
    "y=z.diff().dropna()\n",
    "x=z.shift(1).dropna()\n",
    "model=sm.OLS(y,x)\n",
    "results=model.fit()\n",
    "print(\"nc  \",results.params)\n",
    "print(\"nc  \",results.aic)\n",
    "print(\"nc  \",results.bic)\n",
    "print(\"nc  \",results.rsquared)\n",
    "print(\"nc  \",results.rsquared_adj)\n",
    "print(\"nc  \",results.mse_resid)\n",
    "print(\"nc  \",results.eigenvals)\n",
    "x=sm.add_constant(x)\n",
    "model=sm.OLS(y,x)\n",
    "results=model.fit()\n",
    "print(\"c  \",results.params[0],results.params[1])\n",
    "print(\"c  \",results.aic)\n",
    "print(\"c  \",results.bic)\n",
    "print(\"c  \",results.rsquared)\n",
    "print(\"c  \",results.rsquared_adj)\n",
    "print(\"c  \",results.mse_resid)\n",
    "print(\"c  \",results.eigenvals)\n",
    "x[\"t\"]=range(len(y))\n",
    "model=sm.OLS(y,x)\n",
    "results=model.fit()\n",
    "print(\"ct  \",results.params[0],results.params[1],results.params[2])\n",
    "print(\"ct  \",results.aic)\n",
    "print(\"ct  \",results.bic)\n",
    "print(\"ct  \",results.rsquared)\n",
    "print(\"ct  \",results.rsquared_adj)\n",
    "print(\"ct  \",results.mse_resid)\n",
    "print(\"ct  \",results.eigenvals)\n"
   ]
  },
  {
   "cell_type": "code",
   "execution_count": 52,
   "metadata": {},
   "outputs": [
    {
     "name": "stdout",
     "output_type": "stream",
     "text": [
      "nc   NIKKEI225    0.000002\n",
      "dtype: float64\n",
      "c   0.011510019021973943 -0.001202688854581545\n",
      "ct   0.009991407373640751 -0.001073907600308329 9.735325306615821e-08\n"
     ]
    }
   ],
   "source": [
    "z=lnn225.loc['1993/10/31':]\n",
    "y=z.diff().dropna()\n",
    "x=z.shift(1).dropna()\n",
    "model=sm.OLS(y,x)\n",
    "results=model.fit()\n",
    "print(\"nc  \",results.params)\n",
    "x=sm.add_constant(x)\n",
    "model=sm.OLS(y,x)\n",
    "results=model.fit()\n",
    "print(\"c  \",results.params[0],results.params[1])\n",
    "x[\"t\"]=range(len(y))\n",
    "model=sm.OLS(y,x)\n",
    "results=model.fit()\n",
    "print(\"ct  \",results.params[0],results.params[1],results.params[2])"
   ]
  },
  {
   "cell_type": "code",
   "execution_count": 53,
   "metadata": {},
   "outputs": [
    {
     "name": "stdout",
     "output_type": "stream",
     "text": [
      "nc   NIKKEI225   -0.000118\n",
      "dtype: float64\n",
      "c   0.0559706709657744 -0.0056602757810297315\n",
      "ct   0.20701597961247606 -0.02002965252624858 -1.8352425875115897e-05\n"
     ]
    }
   ],
   "source": [
    "z=lnn225.loc['1990/1/1':'1992/8/31']\n",
    "y=z.diff().dropna()\n",
    "x=z.shift(1).dropna()\n",
    "model=sm.OLS(y,x)\n",
    "results=model.fit()\n",
    "print(\"nc  \",results.params)\n",
    "x=sm.add_constant(x)\n",
    "model=sm.OLS(y,x)\n",
    "results=model.fit()\n",
    "print(\"c  \",results.params[0],results.params[1])\n",
    "x[\"t\"]=range(len(y))\n",
    "model=sm.OLS(y,x)\n",
    "results=model.fit()\n",
    "print(\"ct  \",results.params[0],results.params[1],results.params[2])"
   ]
  },
  {
   "cell_type": "markdown",
   "metadata": {},
   "source": [
    "## 7.5 確定的トレンドと確率的トレンド"
   ]
  },
  {
   "cell_type": "code",
   "execution_count": 54,
   "metadata": {},
   "outputs": [
    {
     "data": {
      "text/plain": [
       "Text(0, 0.5, 'log(n225 index)')"
      ]
     },
     "execution_count": 54,
     "metadata": {},
     "output_type": "execute_result"
    },
    {
     "data": {
      "image/png": "[encoded data removed]",
      "text/plain": [
       "<Figure size 432x288 with 1 Axes>"
      ]
     },
     "metadata": {
      "needs_background": "light"
     },
     "output_type": "display_data"
    }
   ],
   "source": [
    "%matplotlib inline\n",
    "import matplotlib.pyplot as plt\n",
    "import statsmodels.api as sm\n",
    "import pandas_datareader.data as pdr\n",
    "import numpy as np\n",
    "end='2016/9/30'\n",
    "lnw5000 = np.log(web.DataReader(\"WILL5000INDFC\", 'fred',\"1949/5/16\",end)).dropna()\n",
    "lnw5000.columns=['Close']\n",
    "plt.plot(lnw5000.Close,color='hotpink')\n",
    "lnw5000[\"t\"]=range(len(lnw5000))\n",
    "model=sm.OLS(lnw5000.Close,lnw5000.t)\n",
    "results=model.fit()\n",
    "results.fittedvalues.plot(label='prediction',style='--')\n",
    "plt.ylabel('log(n225 index)')"
   ]
  },
  {
   "cell_type": "code",
   "execution_count": 55,
   "metadata": {},
   "outputs": [
    {
     "data": {
      "text/plain": [
       "Text(0.5, 0, 'residual')"
      ]
     },
     "execution_count": 55,
     "metadata": {},
     "output_type": "execute_result"
    },
    {
     "data": {
      "image/png": "[encoded data removed]",
      "text/plain": [
       "<Figure size 432x288 with 1 Axes>"
      ]
     },
     "metadata": {
      "needs_background": "light"
     },
     "output_type": "display_data"
    }
   ],
   "source": [
    "results.resid.hist(bins=50,color='lightgreen')\n",
    "plt.ylabel('frequency')\n",
    "plt.xlabel('residual')"
   ]
  },
  {
   "cell_type": "code",
   "execution_count": 56,
   "metadata": {},
   "outputs": [
    {
     "name": "stdout",
     "output_type": "stream",
     "text": [
      "                                 OLS Regression Results                                \n",
      "=======================================================================================\n",
      "Dep. Variable:                  Close   R-squared (uncentered):                   0.967\n",
      "Model:                            OLS   Adj. R-squared (uncentered):              0.967\n",
      "Method:                 Least Squares   F-statistic:                          2.770e+05\n",
      "Date:                Sun, 10 May 2020   Prob (F-statistic):                        0.00\n",
      "Time:                        13:14:47   Log-Likelihood:                         -7929.6\n",
      "No. Observations:                9397   AIC:                                  1.586e+04\n",
      "Df Residuals:                    9396   BIC:                                  1.587e+04\n",
      "Df Model:                           1                                                  \n",
      "Covariance Type:            nonrobust                                                  \n",
      "==============================================================================\n",
      "                 coef    std err          t      P>|t|      [0.025      0.975]\n",
      "------------------------------------------------------------------------------\n",
      "t              0.0006   1.07e-06    526.352      0.000       0.001       0.001\n",
      "==============================================================================\n",
      "Omnibus:                     2185.621   Durbin-Watson:                   0.000\n",
      "Prob(Omnibus):                  0.000   Jarque-Bera (JB):             1204.052\n",
      "Skew:                          -0.744   Prob(JB):                    3.50e-262\n",
      "Kurtosis:                       2.071   Cond. No.                         1.00\n",
      "==============================================================================\n",
      "\n",
      "Warnings:\n",
      "[1] Standard Errors assume that the covariance matrix of the errors is correctly specified.\n"
     ]
    }
   ],
   "source": [
    "print(results.summary())"
   ]
  }
 ],
 "metadata": {
  "anaconda-cloud": {},
  "kernelspec": {
   "display_name": "Python 3",
   "language": "python",
   "name": "python3"
  },
  "language_info": {
   "codemirror_mode": {
    "name": "ipython",
    "version": 3
   },
   "file_extension": ".py",
   "mimetype": "text/x-python",
   "name": "python",
   "nbconvert_exporter": "python",
   "pygments_lexer": "ipython3",
   "version": "3.7.3"
  }
 },
 "nbformat": 4,
 "nbformat_minor": 1
}
